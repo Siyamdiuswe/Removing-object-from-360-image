{
 "cells": [
  {
   "cell_type": "code",
   "execution_count": 2,
   "metadata": {},
   "outputs": [
    {
     "data": {
      "text/plain": [
       "True"
      ]
     },
     "execution_count": 2,
     "metadata": {},
     "output_type": "execute_result"
    }
   ],
   "source": [
    "import numpy as np \n",
    "import cv2 \n",
    "  \n",
    "# Open the image. \n",
    "img = cv2.imread('360.jpg') \n",
    "  \n",
    "# Load the mask. \n",
    "mask = cv2.imread('mask1.png', 0) \n",
    "  \n",
    "# Inpaint. \n",
    "dst = cv2.inpaint(img, mask, 3, cv2.INPAINT_NS) \n",
    "  \n",
    "# Write the output. \n",
    "cv2.imwrite('Bike_inpainted.jpg', dst) "
   ]
  },
  {
   "cell_type": "code",
   "execution_count": null,
   "metadata": {},
   "outputs": [],
   "source": []
  }
 ],
 "metadata": {
  "kernelspec": {
   "display_name": "Python 3",
   "language": "python",
   "name": "python3"
  },
  "language_info": {
   "codemirror_mode": {
    "name": "ipython",
    "version": 3
   },
   "file_extension": ".py",
   "mimetype": "text/x-python",
   "name": "python",
   "nbconvert_exporter": "python",
   "pygments_lexer": "ipython3",
   "version": "3.7.7"
  }
 },
 "nbformat": 4,
 "nbformat_minor": 4
}
