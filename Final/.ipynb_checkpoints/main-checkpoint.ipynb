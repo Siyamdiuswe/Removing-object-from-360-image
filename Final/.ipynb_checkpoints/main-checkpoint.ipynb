{
 "cells": [
  {
   "cell_type": "code",
   "execution_count": 4,
   "metadata": {},
   "outputs": [
    {
     "name": "stdout",
     "output_type": "stream",
     "text": [
      "Wall time: 27.9 s\n"
     ]
    }
   ],
   "source": [
    "%%time\n",
    "# %%time To count how much time the program takes to finish\n",
    "\n",
    "# Importing necessary libraries\n",
    "import numpy as np \n",
    "import cv2\n",
    "import os\n",
    "\n",
    "# Making lists of images from input directory\n",
    "img_list = os.listdir('input_images')\n",
    "\n",
    "\n",
    "# Looping through every images to inpain\n",
    "for i in range(len(img_list)):\n",
    "    # extracting directores of every input and ouput images\n",
    "    sources = \"input_images/\"+img_list[i]\n",
    "    outputs = \"output_images/\"+img_list[i]\n",
    "    \n",
    "    # To read the images for modification\n",
    "    img = cv2.imread(sources)\n",
    "    mask = cv2.imread('mask.png', 0) \n",
    "    \n",
    "    # cv2.inpaint functing performs inpainting    \n",
    "    dst = cv2.inpaint(img, mask, 3, cv2.INPAINT_NS) \n",
    "    \n",
    "    # Saving the images to output directory\n",
    "    cv2.imwrite(outputs, dst) "
   ]
  }
 ],
 "metadata": {
  "kernelspec": {
   "display_name": "Python 3",
   "language": "python",
   "name": "python3"
  },
  "language_info": {
   "codemirror_mode": {
    "name": "ipython",
    "version": 3
   },
   "file_extension": ".py",
   "mimetype": "text/x-python",
   "name": "python",
   "nbconvert_exporter": "python",
   "pygments_lexer": "ipython3",
   "version": "3.7.7"
  }
 },
 "nbformat": 4,
 "nbformat_minor": 4
}
